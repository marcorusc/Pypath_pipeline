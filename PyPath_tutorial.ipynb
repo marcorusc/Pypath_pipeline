{
 "cells": [
  {
   "cell_type": "code",
   "execution_count": 1,
   "id": "d6a173d9",
   "metadata": {},
   "outputs": [
    {
     "name": "stdout",
     "output_type": "stream",
     "text": [
      "\n",
      "\t=== d i s c l a i m e r ===\n",
      "\n",
      "\tAll data accessed through this module,\n",
      "\teither as redistributed copy or downloaded using the\n",
      "\tprogrammatic interfaces included in the present module,\n",
      "\tare free to use at least for academic research or\n",
      "\teducation purposes.\n",
      "\tPlease be aware of the licenses of all the datasets\n",
      "\tyou use in your analysis, and please give appropriate\n",
      "\tcredits for the original sources when you publish your\n",
      "\tresults. To find out more about data sources please\n",
      "\tlook at `src/pypath/resources/data/resources.json` or\n",
      "\thttps://omnipathdb.org/info and \n",
      "\t`pypath.resources.urls.urls`.\n",
      "\n",
      "[2021-11-03 15:38:24] [pypath] \n",
      "\t- session ID: `ltcaa`\n",
      "\t- working directory: `/home/marco/Documenti/PhD/test_maboss/PyPath_new_tutorial`\n",
      "\t- logfile: `/home/marco/Documenti/PhD/test_maboss/PyPath_new_tutorial/pypath_log/pypath-ltcaa.log`\n",
      "\t- pypath version: 0.11.44\n",
      "[2021-11-03 15:38:37] [inputs] Module `bioservices` not available.\n"
     ]
    }
   ],
   "source": [
    "#starting importing some useful stuff\n",
    "import os\n",
    "import igraph\n",
    "from pypath.share import settings\n",
    "settings.setup(progressbars = True)\n",
    "import omnipath as op\n",
    "import pandas as pd\n",
    "import networkx as nx\n",
    "import matplotlib.pyplot as plt\n",
    "#importing legacy, which is the 'old' version of pypath, the only one (for now), with the graph object implemented\n",
    "from pypath.legacy import main as legacy\n",
    "#importing the new class used by pypath, useful for the dataframe visualization\n",
    "#but with noreferences (maybe a bug to report?). Here graph is not implemented\n",
    "from pypath.core import network\n",
    "from pypath.resources import network as netres\n",
    "import pypath_functions as pf"
   ]
  },
  {
   "cell_type": "code",
   "execution_count": null,
   "id": "1c40cdd1",
   "metadata": {},
   "outputs": [],
   "source": [
    "settings.setup(cachedir = 'tmpcache3')"
   ]
  },
  {
   "cell_type": "code",
   "execution_count": null,
   "id": "47f2de97",
   "metadata": {},
   "outputs": [],
   "source": [
    "#initialization of the network object\n",
    "pa = network.Network()"
   ]
  },
  {
   "cell_type": "code",
   "execution_count": 3,
   "id": "316e92e7",
   "metadata": {},
   "outputs": [],
   "source": [
    "#initialization of the 'old' PyPath object\n",
    "pw_legacy = legacy.PyPath()"
   ]
  },
  {
   "cell_type": "code",
   "execution_count": null,
   "id": "eb944229",
   "metadata": {},
   "outputs": [],
   "source": [
    "#load the network\n",
    "pa.init_network(pickle_file='mynetwork.pickle')"
   ]
  },
  {
   "cell_type": "code",
   "execution_count": null,
   "id": "2008df41",
   "metadata": {},
   "outputs": [],
   "source": [
    "#building the dataframe and visualize it\n",
    "pa.make_df()\n",
    "\n",
    "pa.df"
   ]
  },
  {
   "cell_type": "code",
   "execution_count": null,
   "id": "33cb6336",
   "metadata": {},
   "outputs": [],
   "source": [
    "#it is possible to search for a path and visualize the information for each path finded (it takes lots of time)\n",
    "\n",
    "### pa.find_paths('O15350', 'P31749', maxlen = 4, interaction_type = ('post_translational'), silent=True)\n",
    "\n",
    "for path in pa.find_paths('O15350', 'P31749', maxlen = 4, interaction_type = ('post_translational'), silent=True):\n",
    "    print(path)"
   ]
  },
  {
   "cell_type": "code",
   "execution_count": null,
   "id": "5fee18d5",
   "metadata": {},
   "outputs": [],
   "source": [
    "# you can check that in the dataframe there are no references:\n",
    "a = pa.df.groupby(['references']).size().reset_index()"
   ]
  },
  {
   "cell_type": "code",
   "execution_count": null,
   "id": "05a11e9c",
   "metadata": {},
   "outputs": [],
   "source": [
    "#load the network\n",
    "\n",
    "pw_legacy.init_network(pickle_file='mylegacy2.pickle')"
   ]
  },
  {
   "cell_type": "code",
   "execution_count": null,
   "id": "2d3d5ad8",
   "metadata": {},
   "outputs": [],
   "source": [
    "#MAIN OBJECT\n",
    "\n",
    "graph = pw_legacy.graph\n",
    "igraph.summary(graph)"
   ]
  },
  {
   "cell_type": "code",
   "execution_count": null,
   "id": "947f2057",
   "metadata": {},
   "outputs": [],
   "source": [
    "#get vertices attributes (I just selected a random one)\n",
    "\n",
    "graph.vs[5].attributes()"
   ]
  },
  {
   "cell_type": "code",
   "execution_count": null,
   "id": "0f9b35a0",
   "metadata": {},
   "outputs": [],
   "source": [
    "#Get the index and uniprot name of a protein in the network with its gene symbol or its index:\n",
    "\n",
    "print('index: ', pw_legacy.graph.vs[99].index, 'name: ', pw_legacy.graph.vs[99]['name'], 'label: ', pw_legacy.graph.vs[99]['original_names'])\n"
   ]
  },
  {
   "cell_type": "code",
   "execution_count": null,
   "id": "9c5b40fe",
   "metadata": {},
   "outputs": [],
   "source": [
    "#find uniprot name from genesymbol\n",
    "#\n",
    "from pypath.utils import mapping\n",
    "\n",
    "mapping.map_name('AKT1', 'genesymbol', 'uniprot')"
   ]
  },
  {
   "cell_type": "code",
   "execution_count": null,
   "id": "888c979d",
   "metadata": {},
   "outputs": [],
   "source": [
    "#this function takes as argument a list of genes and return a dictionary with the associated uniprot names\n",
    "\n",
    "gene_list = [] # ==> you can insert here the list of gene you are looking for\n",
    "\n",
    "gene_dict = pf.generate_dict(gene_list)\n",
    "\n",
    "gene_dict"
   ]
  },
  {
   "cell_type": "code",
   "execution_count": null,
   "id": "0ff41424",
   "metadata": {},
   "outputs": [],
   "source": [
    "# sometimes the function above is not working, here is an alternative using directly the omnipath database:\n",
    "gene_dict2 = pf.get_code_from_annotations(gene_list)\n",
    "\n",
    "gene_dict2"
   ]
  },
  {
   "cell_type": "code",
   "execution_count": null,
   "id": "ac8b69fc",
   "metadata": {},
   "outputs": [],
   "source": [
    "#just to be sure, let's compare the two dict\n",
    "for gene1 in gene_dict:\n",
    "    for gene2 in gene_dict2:\n",
    "        if(gene1==gene2 and gene_dict[gene1]==gene_dict[gene2]):\n",
    "            print(gene1, gene2, True)\n",
    "        elif(gene1==gene2 and gene_dict[gene1]!=gene_dict[gene2]):\n",
    "            print(gene1, gene2, False)"
   ]
  },
  {
   "cell_type": "code",
   "execution_count": null,
   "id": "15b6b7a7",
   "metadata": {},
   "outputs": [],
   "source": [
    "#get information about some interactions:\n",
    "#sometimes edge[''] is a list containing more informations, you have to get access with edge[''][#]\n",
    "# ex: edge['dirs'][0]\n",
    "gene_name1=\"\"\n",
    "gene_name2=\"\"\n",
    "idedge = pw_legacy.edge_exists(pw_legacy.gs(gene_name1)['name'],pw_legacy.gs(gene_name2)['name'])\n",
    "print(idedge)\n",
    "edge = graph.es[idedge]\n",
    "\n",
    "print(edge['dirs'])\n",
    "print(edge['sources'])\n",
    "print(edge['references'])\n",
    "print(edge['dirs'][0].consensus_edges())\n",
    "#the function below returns an average between the possible interections\n",
    "#taken from the different databases\n",
    "print(pf.get_consensus_edges(edge['dirs'][0], gene_dict))\n",
    "\n",
    "#for element in edge:\n",
    " #   print(element['dirs'])\n",
    "  #  print(element['sources'])\n",
    "   # print(element['references'])\n",
    "    #print(element['dirs'].is_directed())"
   ]
  },
  {
   "cell_type": "code",
   "execution_count": null,
   "id": "577c5e97",
   "metadata": {},
   "outputs": [],
   "source": [
    "#search for pathways specifying max len\n",
    "\n",
    "AKT1 = graph.vs.find(name='P31749')\n",
    "Notch = graph.vs.find(name='P46531')\n",
    "\n",
    "for path in pw_legacy.find_all_paths(AKT1.index, Notch.index, mode='ALL'):\n",
    "    print(path)\n",
    "    print(graph.vs[path[1]]['original_names'])"
   ]
  },
  {
   "cell_type": "code",
   "execution_count": null,
   "id": "2a21d125",
   "metadata": {},
   "outputs": [],
   "source": [
    "#STARTING BUILDING THE SUBGRAPH\n",
    "\n",
    "#getting the uniprot names from a gene list\n",
    "\n",
    "sources = gene_list\n",
    "\n",
    "\n",
    "uniprot_dict = pf.generate_dict(sources)\n",
    "\n",
    "uniprot_dict"
   ]
  },
  {
   "cell_type": "code",
   "execution_count": null,
   "id": "ee6fb992",
   "metadata": {},
   "outputs": [],
   "source": [
    "#building the subgraph\n",
    "\n",
    "subg4 = graph.induced_subgraph([pw_legacy.vs.find(name = uniprot_dict[e]) for e in uniprot_dict.keys()])\n",
    "\n",
    "#printing the node list and the corresponding degree for each node\n",
    "print('Node -- Degree')\n",
    "for e in subg4.vs:\n",
    "    print(e['label'] + ' -- '+ str(e.degree()), end=' ')\n",
    "\n",
    "#function used to print the interaction\n",
    "print(\"Interactions:\")\n",
    "        \n",
    "pf.display_directed_edges_labels(subg4,subg4.es, uniprot_dict)"
   ]
  },
  {
   "cell_type": "code",
   "execution_count": null,
   "id": "84b3c831",
   "metadata": {},
   "outputs": [],
   "source": [
    "#this ufnction take as arguments a graph/subgraph (from pypath)\n",
    "    # and a string (ex: my_network.png)\n",
    "pf.plot_graph(subg4, \"example_network.png\")"
   ]
  },
  {
   "cell_type": "code",
   "execution_count": null,
   "id": "d83d5986",
   "metadata": {},
   "outputs": [],
   "source": [
    "#it is possible to visualize the dataframe containing all the informations about each edge:\n",
    "pf.show_edge_dataframe(subg4)"
   ]
  },
  {
   "cell_type": "code",
   "execution_count": null,
   "id": "a909f2f4",
   "metadata": {},
   "outputs": [],
   "source": [
    "#in the subgraph not all the nodes are connected, to check this:\n",
    "\n",
    "gene_name1=''\n",
    "gene_name2=''\n",
    "\n",
    "print(subg4.are_connected(uniprot_dict[gene_name1], uniprot_dict[gene_name2]))\n",
    "path = subg4.get_all_shortest_paths(uniprot_dict[gene_name1], uniprot_dict[gene_name2])\n",
    "path"
   ]
  },
  {
   "cell_type": "code",
   "execution_count": null,
   "id": "109b3662",
   "metadata": {},
   "outputs": [],
   "source": [
    "#to procede, we can search for another possible path that could link the nodes and then add the node to the subgraph\n",
    "#we can decide the max lenght of the path (default is 2)\n",
    "node_1 = graph.vs.find(label=gene_name1)\n",
    "node_2 = graph.vs.find(label=gene_name2)\n",
    "\n",
    "for path in pw_legacy.find_all_paths(node_1.index, node_2.index, mode='ALL', maxlen=2):\n",
    "    print(path)\n",
    "    print(graph.vs[path[1]]['original_names'])"
   ]
  },
  {
   "cell_type": "code",
   "execution_count": null,
   "id": "ead55894",
   "metadata": {},
   "outputs": [],
   "source": [
    "#finally we can print the informations  about the new edge\n",
    "\n",
    "print(pw_legacy.get_edge('P31749', 'P12931')['dirs'], pw_legacy.get_edge('P31749', 'P12931')['references'], pw_legacy.get_edge('P31749', 'P12931')['refs_by_source'])"
   ]
  },
  {
   "cell_type": "code",
   "execution_count": null,
   "id": "f0a7d06a",
   "metadata": {},
   "outputs": [],
   "source": [
    "#re-build the network with the new nodes\n",
    "\n",
    "sources = []\n",
    "\n",
    "uniprot_dict = pf.generate_dict(sources)\n",
    "\n",
    "#building the subgraph\n",
    "\n",
    "subg4_with_new_node = graph.induced_subgraph([pw_legacy.vs.find(name = uniprot_dict[e]) for e in uniprot_dict.keys()])\n",
    "\n",
    "#printing the node list and the corresponding degree for each node\n",
    "print('Node -- Degree')\n",
    "for e in subg4_with_new_node.vs:\n",
    "    print(e['label'] + ' -- '+ str(e.degree()), end=' ')\n",
    "\n",
    "#function used to print the interaction\n",
    "print('\\n', \"Interactions:\")\n",
    "        \n",
    "        \n",
    "pf.display_directed_edges_labels(subg4_with_new_node,subg4_with_new_node.es)\n",
    "\n",
    "pf.plot_graph(subg4_with_new_node, \"my_network2.png\")"
   ]
  },
  {
   "cell_type": "code",
   "execution_count": null,
   "id": "9d0d5fce",
   "metadata": {},
   "outputs": [],
   "source": [
    "# we can search for another possible path that could link the nodes and then add the node to the subgraph\n",
    "#we can decide the max lenght of the path (default is 2)\n",
    "gene_name1=''\n",
    "gene_name2=''\n",
    "\n",
    "node_1 = graph.vs.find(label=gene_name1)\n",
    "node_2 = graph.vs.find(label=gene_name2)\n",
    "#print(node_1)\n",
    "#print(node_2)\n",
    "for path in pw_legacy.find_all_paths(node_1.index, node_2.index, mode='ALL', maxlen=2):\n",
    "    print(path)\n",
    "    for i in range(0, len(path)):\n",
    "        print(graph.vs[path[i]]['label'], end=' ')\n",
    "    print('\\n')"
   ]
  },
  {
   "cell_type": "code",
   "execution_count": null,
   "id": "98fa55c0",
   "metadata": {},
   "outputs": [],
   "source": [
    "#according to the specifying depth, this function search in the databases all possible paths of length==depth \n",
    "#and add all the nodes founded in the graph (this can take some time depending on the depth)\n",
    "connected_dict = pf.complete_connection(subg4, uniprot_dict, 2, pw_legacy)\n",
    "\n",
    "subg5 = graph.induced_subgraph([pw_legacy.vs.find(name = complete_dict[e]) for e in connected_dict.keys()])\n",
    "\n",
    "pf.plot_graph(subg5, \"my_connected_network.png\")"
   ]
  },
  {
   "cell_type": "code",
   "execution_count": null,
   "id": "48993f22",
   "metadata": {},
   "outputs": [],
   "source": [
    "#according to the specifying depth, this function search in the databases all possible paths of length==depth \n",
    "#and add all the nodes founded in the graph (this can take some time depending on the depth)\n",
    "complete_dict = pf.get_complete_dict(subg4, uniprot_dict, 2, pw_legacy)\n",
    "\n",
    "subg6 = graph.induced_subgraph([pw_legacy.vs.find(name = complete_dict[e]) for e in complete_dict.keys()])\n",
    "\n",
    "pf.plot_graph(subg6, \"my_complete_network.png\")"
   ]
  },
  {
   "cell_type": "code",
   "execution_count": null,
   "id": "b098f7be",
   "metadata": {},
   "outputs": [],
   "source": [
    "#if I want to select the interaction from a certain database (ex SIGNOR):\n",
    "# in this case I am no longer using Igraph to print the network, but networkx\n",
    "\n",
    "database = 'SIGNOR' # ==> insert name of the database\n",
    "\n",
    "edge_df = pf.show_edge_dataframe(subg5, complete_dict)\n",
    "df_signor = edge_df[pd.DataFrame(edge_df.sources.tolist()).isin([database]).any(1).values]\n",
    "\n",
    "# print a network starting from the pandas dataframe and NOT froma  graph/subgraph\n",
    "pf.print_graph(df_signor)"
   ]
  },
  {
   "cell_type": "code",
   "execution_count": null,
   "id": "d425cc25",
   "metadata": {},
   "outputs": [],
   "source": [
    "df_signor"
   ]
  },
  {
   "cell_type": "code",
   "execution_count": null,
   "id": "c52a649e",
   "metadata": {},
   "outputs": [],
   "source": [
    "gene_name=''\n",
    "#if I want to know which are the neighbors of a particular node in the subgraph that I just built:\n",
    "pf.search_neigh_interactions(gene_name, uniprot_dict)"
   ]
  },
  {
   "cell_type": "code",
   "execution_count": null,
   "id": "2e831f62",
   "metadata": {},
   "outputs": [],
   "source": [
    "#exporting graph for cytoscape in graphml, gml, lgl format\n",
    "subg5.write_graphml('cytoscape_network.graphml') \n",
    "subg5.write_gml('cytoscape_network.gml')\n",
    "subg5.write_lgl('cytoscape_network.lgl')"
   ]
  },
  {
   "cell_type": "code",
   "execution_count": null,
   "id": "bc4aa3fe",
   "metadata": {},
   "outputs": [],
   "source": [
    "#here you can plot the network with node size equal to the total degree (in + out) \n",
    "\n",
    "degree_threshold = 5 #threshold to display the name of the nodes\n",
    "visual_style = {'bbox': (3000, 3000),\n",
    "               'margin': 150}\n",
    "label_tmp = [node if d>degree_threshold else '\\n' for node, d in zip(subg5.vs['label'], subg5.degree())]\n",
    "igraph.plot(subg5, target = 'network_degree.pdf', \n",
    "            layout=subg5.layout_auto(), vertex_label=label_tmp, \n",
    "            vertex_size=subg5.degree(), edge_width = 0.3, edge_color = 'purple',\n",
    "            vertex_color = '#97BE73', vertex_frame_width = 0,\n",
    "            vertex_label_size = 7,\n",
    "            vertex_label_color = 'red', inline = True, margin = 20)"
   ]
  },
  {
   "cell_type": "code",
   "execution_count": null,
   "id": "4e6871a2",
   "metadata": {},
   "outputs": [],
   "source": [
    "pf.filter_by_node_degree(subg5, 5, pw_legacy)"
   ]
  },
  {
   "cell_type": "code",
   "execution_count": null,
   "id": "96f8bea5",
   "metadata": {},
   "outputs": [],
   "source": [
    "gene_name1=''\n",
    "gene_name2=''\n",
    "#with this function, you can select two node of one of your graph, and check which are the shortest paths\n",
    "#that link the two node, and then plot them\n",
    "pf.plot_shortest_paths(gene_name1, gene_name2, subg5)"
   ]
  },
  {
   "cell_type": "code",
   "execution_count": null,
   "id": "f89967b2",
   "metadata": {},
   "outputs": [],
   "source": [
    "#since igraph and networkx do not allow (or at least I don't know how to) to show directed edges\n",
    "# I implemented this function that colors the an edge depending on the result of the \"consensus_edge\" function:\n",
    "#this function returns an average of the direction of the edge according to the associated sources\n",
    "\n",
    "#I still have to add a colorbar or something similar, anyway I will think about something as soon as I can\n",
    "pf.plot_with_colored_edges(subg5)"
   ]
  }
 ],
 "metadata": {
  "kernelspec": {
   "display_name": "MaBoSS_env",
   "language": "python",
   "name": "maboss_env"
  },
  "language_info": {
   "codemirror_mode": {
    "name": "ipython",
    "version": 3
   },
   "file_extension": ".py",
   "mimetype": "text/x-python",
   "name": "python",
   "nbconvert_exporter": "python",
   "pygments_lexer": "ipython3",
   "version": "3.9.7"
  }
 },
 "nbformat": 4,
 "nbformat_minor": 5
}

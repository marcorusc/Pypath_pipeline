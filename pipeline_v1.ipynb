{
 "cells": [
  {
   "cell_type": "markdown",
   "id": "131947ce",
   "metadata": {},
   "source": [
    "THIS IS AN EXAMPLE ABOUT HOW TO DOWNLOAD A DATABASE, CREATE A PICKLE FILE AND THEN LOAD IT INTO A NETWORK"
   ]
  },
  {
   "cell_type": "code",
   "execution_count": null,
   "id": "8704a7de",
   "metadata": {},
   "outputs": [],
   "source": [
    "#first import pypath and the omnipath module\n",
    "\n",
    "from pypath.core import network\n",
    "from pypath.resources import data_formats as netres\n",
    "from pypath import omnipath"
   ]
  },
  {
   "cell_type": "code",
   "execution_count": null,
   "id": "1725c300",
   "metadata": {},
   "outputs": [],
   "source": [
    "#then import the wrapper\n",
    "\n",
    "from pypath_wrapper import Wrap_net"
   ]
  },
  {
   "cell_type": "code",
   "execution_count": null,
   "id": "d441f26d",
   "metadata": {},
   "outputs": [],
   "source": [
    "w = Wrap_net()\n",
    "\n",
    "#here we create the wrap_net object, which is the same as Network() but with a couple of functions more"
   ]
  },
  {
   "cell_type": "code",
   "execution_count": null,
   "id": "12e8d1e4",
   "metadata": {},
   "outputs": [],
   "source": [
    "#here we load the database to populate the wrap_net object. It can be done in two ways:\n",
    "\n",
    "#1) using the \"netres\" object\n",
    "netres.omnipath\n",
    "\n",
    "#in the output of the cells you can visualize the database that will populate your wrapnet object"
   ]
  },
  {
   "cell_type": "code",
   "execution_count": null,
   "id": "9db27d43",
   "metadata": {},
   "outputs": [],
   "source": [
    "#to load the previous databses just do:\n",
    "\n",
    "w.load(netres.pathway)\n",
    "\n",
    "#the load methods, loads the databases contained in the netres object"
   ]
  },
  {
   "cell_type": "code",
   "execution_count": null,
   "id": "9bc599d6",
   "metadata": {},
   "outputs": [],
   "source": [
    "netres.pathway.keys()"
   ]
  },
  {
   "cell_type": "code",
   "execution_count": null,
   "id": "5700604c",
   "metadata": {
    "scrolled": true
   },
   "outputs": [],
   "source": [
    "#2) an alternative is using the omnipath object\n",
    "\n",
    "#the following lines will download the chosen databases, populate the cache folder and create a pickle file\n",
    "\n",
    "#the first time this will take a lot of time because it will download Gb of data\n",
    "\n",
    "#after the first time, it will take just a couple of seconds\n",
    "\n",
    "omnipath.db.param['network_omnipath_mod'] = 'network' \n",
    "\n",
    "#use the following line if you want to specify some arguments and load just one or some databases (ex signor, kegg etc...)\n",
    "omnipath.db.param['network_omnipath_args'] = {'resources': netres.pathway['signor']} # <-- insert in the dict the pathway\n",
    "\n",
    "#get the actual files necessary to build the database\n",
    "\n",
    "omnipath.db.get_db('network_omnipath')"
   ]
  },
  {
   "cell_type": "code",
   "execution_count": null,
   "id": "ac8ee186",
   "metadata": {},
   "outputs": [],
   "source": [
    "#next time when you want to launch the session rapidly you can just use:\n",
    "\n",
    "m = omnipath.db.pickle_path('network_omnipath') #here you store the pickle file in the variable \"m\" in order to load it next"
   ]
  },
  {
   "cell_type": "code",
   "execution_count": null,
   "id": "9aeb00f8",
   "metadata": {},
   "outputs": [],
   "source": [
    "#once the pickle file is created, let's load it into the new object\n",
    "\n",
    "w = Wrap_net(m)"
   ]
  },
  {
   "cell_type": "code",
   "execution_count": null,
   "id": "30219ce2",
   "metadata": {},
   "outputs": [],
   "source": [
    "#now let's check its dimensions\n",
    "w"
   ]
  },
  {
   "cell_type": "code",
   "execution_count": null,
   "id": "fa196e81",
   "metadata": {},
   "outputs": [],
   "source": [
    "#and let's have a look to the interactions:\n",
    "w.interactions"
   ]
  },
  {
   "cell_type": "markdown",
   "id": "9d5e3ecc",
   "metadata": {},
   "source": [
    "SECOND PART: FROM A LIST OF GENES TO A BNET FILE"
   ]
  },
  {
   "cell_type": "code",
   "execution_count": null,
   "id": "c9ef05dc",
   "metadata": {},
   "outputs": [],
   "source": [
    "#let's create a list of genes\n",
    "\n",
    "genes = [\"SRC\", \"NOTCH1\", \"FAK\", \"CDH1\", \"CDH2\", \"VIM\", \"MAP4K4\", \"LATS1\", \"LATS2\"]"
   ]
  },
  {
   "cell_type": "code",
   "execution_count": null,
   "id": "b3342538",
   "metadata": {},
   "outputs": [],
   "source": [
    "from pypath.utils import mapping\n",
    "\n",
    "for gene in genes:\n",
    "    uniprot = list(mapping.map_name(gene, 'genesymbol', 'uniprot'))\n",
    "    genesymbol = list(mapping.map_name(uniprot[0], 'uniprot', 'genesymbol'))\n",
    "    print(uniprot, genesymbol)"
   ]
  },
  {
   "cell_type": "code",
   "execution_count": null,
   "id": "2f2eeceb",
   "metadata": {},
   "outputs": [],
   "source": [
    "#and now let's extract a subnetwork from our wrap_net object that contains the interactions between those genes\n",
    "\n",
    "#let's propose a max distance between each gene, in this case, let's say 1\n",
    "\n",
    "distance = 2\n",
    "\n",
    "new_net = w.extract_subnet(genes, distance, complete_connections=False, resources=\"SIGNOR\")"
   ]
  },
  {
   "cell_type": "code",
   "execution_count": null,
   "id": "4ff70085",
   "metadata": {},
   "outputs": [],
   "source": [
    "#let's check the new net\n",
    "\n",
    "new_net.generate_graph()\n",
    "new_net.print_graph()"
   ]
  },
  {
   "cell_type": "code",
   "execution_count": null,
   "id": "358fad8b",
   "metadata": {},
   "outputs": [],
   "source": [
    "#the previous graph shows some disconnected nodes, this is normal because not every gene/protein is in direct\n",
    "#connection with the other ones\n",
    "#So now, let's use the \"complete_connections\" flag in 'soft' mode\n",
    "\n",
    "#this flag will trigger a function that adds JUST the FIRST shortest path that can connect all the nodes\n",
    "\n",
    "#let's call this network the \"minimum connected network\"\n",
    "\n",
    "distance = 2\n",
    "\n",
    "new_net = w.extract_subnet(genes, distance, complete_connections=\"soft\", resources=\"SIGNOR\")"
   ]
  },
  {
   "cell_type": "code",
   "execution_count": null,
   "id": "ac0fa2b4",
   "metadata": {},
   "outputs": [],
   "source": [
    "#let's check the new net\n",
    "\n",
    "new_net.generate_graph()\n",
    "new_net.print_graph()"
   ]
  },
  {
   "cell_type": "code",
   "execution_count": null,
   "id": "e8783a62",
   "metadata": {},
   "outputs": [],
   "source": [
    "#the previous network already include a good number of genes\n",
    "\n",
    "#but sometimes, when working on some biological context, those genes are not enough.\n",
    "\n",
    "#this time we want to enrich even more the network to find any possible gene that could be implicated in our study\n",
    "\n",
    "#to do this, let's use again the flag \"complete_connections\" setting it on True\n",
    "\n",
    "#this will trigger a function that will look for a possible path between every couple of genes\n",
    "#rising by a lot the number of final nodes in the network (WARNING: IT COULD TAKES A WHILE)\n",
    "\n",
    "distance = 2\n",
    "\n",
    "new_net = w.extract_subnet(genes, distance, complete_connections=True, resources=\"SIGNOR\")"
   ]
  },
  {
   "cell_type": "code",
   "execution_count": null,
   "id": "d35a9049",
   "metadata": {},
   "outputs": [],
   "source": [
    "#let's check the new net\n",
    "\n",
    "new_net.generate_graph()\n",
    "new_net.print_graph()"
   ]
  },
  {
   "cell_type": "code",
   "execution_count": null,
   "id": "c8a9c2d0",
   "metadata": {},
   "outputs": [],
   "source": [
    "#Now, let's say that I have a big network and I need all the connected genes to a specific one, here is how to \n",
    "# retrieve them:\n",
    "\n",
    "a = new_net.get_neighbours(\"MAP4K4\")\n",
    "print(a)"
   ]
  },
  {
   "cell_type": "code",
   "execution_count": null,
   "id": "fe93d9c2",
   "metadata": {},
   "outputs": [],
   "source": [
    "# and now let's export our network to a bnet file in order to use it with MaBoSS and friends\n",
    "\n",
    "new_net.write_bnet()"
   ]
  },
  {
   "cell_type": "code",
   "execution_count": null,
   "id": "6c8db622",
   "metadata": {},
   "outputs": [],
   "source": [
    "new_net.generate_sif()"
   ]
  },
  {
   "cell_type": "code",
   "execution_count": null,
   "id": "63328212",
   "metadata": {},
   "outputs": [],
   "source": [
    "inter = new_net.interaction_by_label(\"CDK5\", \"MAP2K1\")"
   ]
  },
  {
   "cell_type": "code",
   "execution_count": null,
   "id": "55a0d3d2",
   "metadata": {},
   "outputs": [],
   "source": [
    "path = new_net.find_paths([\"KRAS\", \"SRC\"])\n",
    "\n",
    "path"
   ]
  },
  {
   "cell_type": "code",
   "execution_count": null,
   "id": "0c173e7a",
   "metadata": {},
   "outputs": [],
   "source": [
    "src = new_net.entity_by_label(\"LATS1\")"
   ]
  },
  {
   "cell_type": "code",
   "execution_count": null,
   "id": "dc376da3",
   "metadata": {},
   "outputs": [],
   "source": [
    "src.info()"
   ]
  },
  {
   "cell_type": "code",
   "execution_count": null,
   "id": "b8f79fbc",
   "metadata": {},
   "outputs": [],
   "source": [
    "a = new_net.generate_df()"
   ]
  },
  {
   "cell_type": "code",
   "execution_count": null,
   "id": "cf36cc38",
   "metadata": {},
   "outputs": [],
   "source": [
    "a"
   ]
  },
  {
   "cell_type": "code",
   "execution_count": null,
   "id": "68eeddec",
   "metadata": {},
   "outputs": [],
   "source": []
  }
 ],
 "metadata": {
  "kernelspec": {
   "display_name": "Python 3 (ipykernel)",
   "language": "python",
   "name": "python3"
  },
  "language_info": {
   "codemirror_mode": {
    "name": "ipython",
    "version": 3
   },
   "file_extension": ".py",
   "mimetype": "text/x-python",
   "name": "python",
   "nbconvert_exporter": "python",
   "pygments_lexer": "ipython3",
   "version": "3.10.0"
  }
 },
 "nbformat": 4,
 "nbformat_minor": 5
}

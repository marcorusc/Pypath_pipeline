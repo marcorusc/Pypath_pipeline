{
 "cells": [
  {
   "cell_type": "markdown",
   "id": "131947ce",
   "metadata": {},
   "source": [
    "THIS IS AN EXAMPLE ABOUT HOW TO DOWNLOAD A DATABASE, CREATE A PICKLE FILE AND THEN LOAD IT INTO A NETWORK"
   ]
  },
  {
   "cell_type": "code",
   "execution_count": null,
   "id": "8704a7de",
   "metadata": {},
   "outputs": [],
   "source": [
    "#first import pypath and the omnipath module\n",
    "\n",
    "from pypath.core import network\n",
    "from pypath.resources import network as netres\n",
    "from pypath import omnipath"
   ]
  },
  {
   "cell_type": "code",
   "execution_count": null,
   "id": "1725c300",
   "metadata": {},
   "outputs": [],
   "source": [
    "#then import the wrapper\n",
    "\n",
    "from pypath_wrapper import Wrap_net"
   ]
  },
  {
   "cell_type": "code",
   "execution_count": null,
   "id": "d441f26d",
   "metadata": {},
   "outputs": [],
   "source": [
    "w = Wrap_net()\n",
    "\n",
    "#here we create the wrap_net object, which is the same as Network() but with a couple of functions more"
   ]
  },
  {
   "cell_type": "code",
   "execution_count": null,
   "id": "12e8d1e4",
   "metadata": {},
   "outputs": [],
   "source": [
    "#here we load the database to populate the wrap_net object. It can be done in two ways:\n",
    "\n",
    "#1) using the \"netres\" object\n",
    "netres.omnipath\n",
    "\n",
    "#in the output of the cells you can visualize the database that will populate your wrapnet object"
   ]
  },
  {
   "cell_type": "code",
   "execution_count": null,
   "id": "9db27d43",
   "metadata": {},
   "outputs": [],
   "source": [
    "#to load the previous databses just do:\n",
    "\n",
    "w.load(netres.pathway)\n",
    "\n",
    "#the load methods, loads the databases contained in the netres object"
   ]
  },
  {
   "cell_type": "code",
   "execution_count": null,
   "id": "5700604c",
   "metadata": {},
   "outputs": [],
   "source": [
    "#2) an alternative is using the omnipath object\n",
    "\n",
    "#the following lines will download the chosen databases, populate the cache folder and create a pickle file\n",
    "\n",
    "#the first time this will take a lot of time because it will download Gb of data\n",
    "\n",
    "#after the first time, it will take just a couple of seconds\n",
    "\n",
    "omnipath.db.param['network_mod'] = 'network_omnipath' \n",
    "\n",
    "#use the following line if you want to specify some arguments and load just one or some databases (ex signor, kegg etc...)\n",
    "#omnipath.db.param['network_args'] = {'resources': netres.pathway['signor']} # <-- insert in the dict the pathway\n",
    "\n",
    "#get the actual files necessary to build the database\n",
    "\n",
    "m = omnipath.db.get_db('network_omnipath')"
   ]
  },
  {
   "cell_type": "code",
   "execution_count": null,
   "id": "ac8ee186",
   "metadata": {},
   "outputs": [],
   "source": [
    "#next time when you want to launch the session rapidly you can just use:\n",
    "\n",
    "m = omnipath.db.pickle_path('network_omnipath') #here you store the pickle file in the variable \"m\" in order to load it next"
   ]
  },
  {
   "cell_type": "code",
   "execution_count": null,
   "id": "9aeb00f8",
   "metadata": {},
   "outputs": [],
   "source": [
    "#once the pickle file is created, let's load it into the new object\n",
    "\n",
    "w = Wrap_net(m)"
   ]
  },
  {
   "cell_type": "code",
   "execution_count": null,
   "id": "30219ce2",
   "metadata": {},
   "outputs": [],
   "source": [
    "#now let's check its dimensions\n",
    "w"
   ]
  },
  {
   "cell_type": "code",
   "execution_count": null,
   "id": "fa196e81",
   "metadata": {},
   "outputs": [],
   "source": [
    "#and let's have a look to the interactions:\n",
    "w.interactions"
   ]
  },
  {
   "cell_type": "markdown",
   "id": "9d5e3ecc",
   "metadata": {},
   "source": [
    "SECOND PART: FROM A LIST OF GENES TO A BNET FILE"
   ]
  },
  {
   "cell_type": "code",
   "execution_count": null,
   "id": "c9ef05dc",
   "metadata": {},
   "outputs": [],
   "source": [
    "#let's create a list of genes\n",
    "\n",
    "genes = []"
   ]
  },
  {
   "cell_type": "code",
   "execution_count": null,
   "id": "b3342538",
   "metadata": {},
   "outputs": [],
   "source": [
    "from pypath.utils import mapping\n",
    "\n",
    "for gene in genes:\n",
    "    uniprot = list(mapping.map_name(gene, 'genesymbol', 'uniprot'))\n",
    "    genesymbol = list(mapping.map_name(uniprot[0], 'uniprot', 'genesymbol'))\n",
    "    print(uniprot, genesymbol)"
   ]
  },
  {
   "cell_type": "code",
   "execution_count": null,
   "id": "e8783a62",
   "metadata": {},
   "outputs": [],
   "source": [
    "#and now let's extract a subnetwork from our wrap_net object that contains the interactions between those genes\n",
    "\n",
    "#let's propose a max distance between each gene\n",
    "\n",
    "distance = 2\n",
    "\n",
    "new_net = w.extract_subnet(genes, distance, complete_connections=True)"
   ]
  },
  {
   "cell_type": "code",
   "execution_count": null,
   "id": "ac0fa2b4",
   "metadata": {},
   "outputs": [],
   "source": [
    "#let's check the new net\n",
    "\n",
    "new_net.generate_graph()\n",
    "new_net.print_graph()"
   ]
  },
  {
   "cell_type": "code",
   "execution_count": null,
   "id": "c8a9c2d0",
   "metadata": {},
   "outputs": [],
   "source": [
    "#Now, let's say that I have a big network and I need all the connected genes to a specific one, here is how to \n",
    "# retrieve them:\n",
    "\n",
    "a = w.get_neighbours(\"NCR1\")\n",
    "print(a)"
   ]
  },
  {
   "cell_type": "code",
   "execution_count": null,
   "id": "fe93d9c2",
   "metadata": {},
   "outputs": [],
   "source": [
    "# and now let's export our network to a bnet file in order to use it with MaBoSS and friends\n",
    "\n",
    "new_net.write_bnet()"
   ]
  }
 ],
 "metadata": {
  "kernelspec": {
   "display_name": "Python 3 (ipykernel)",
   "language": "python",
   "name": "python3"
  },
  "language_info": {
   "codemirror_mode": {
    "name": "ipython",
    "version": 3
   },
   "file_extension": ".py",
   "mimetype": "text/x-python",
   "name": "python",
   "nbconvert_exporter": "python",
   "pygments_lexer": "ipython3",
   "version": "3.9.7"
  }
 },
 "nbformat": 4,
 "nbformat_minor": 5
}

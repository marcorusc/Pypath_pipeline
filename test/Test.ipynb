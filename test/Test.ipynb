{
 "cells": [
  {
   "cell_type": "code",
   "execution_count": 1,
   "id": "0a7c23e1",
   "metadata": {},
   "outputs": [],
   "source": [
    "#starting importing some useful stuff\n",
    "import os\n",
    "import igraph\n",
    "from pypath.share import settings\n",
    "settings.setup(progressbars = True)\n",
    "import omnipath as op\n",
    "import pandas as pd\n",
    "import networkx as nx\n",
    "import matplotlib.pyplot as plt\n",
    "#importing legacy, which is the 'old' version of pypath, the only one (for now), with the graph object implemented\n",
    "from pypath.legacy import main as legacy\n",
    "#importing the new class used by pypath, useful for the dataframe visualization\n",
    "#but with noreferences (maybe a bug to report?). Here graph is not implemented\n",
    "from pypath.core import network\n",
    "from pypath.resources import network as netres\n",
    "import pypath_functions as pf"
   ]
  },
  {
   "cell_type": "code",
   "execution_count": 2,
   "id": "b5ce9410",
   "metadata": {},
   "outputs": [
    {
     "ename": "NameError",
     "evalue": "name 'graph' is not defined",
     "output_type": "error",
     "traceback": [
      "\u001b[0;31m---------------------------------------------------------------------------\u001b[0m",
      "\u001b[0;31mNameError\u001b[0m                                 Traceback (most recent call last)",
      "\u001b[0;32m/tmp/ipykernel_32902/3769316006.py\u001b[0m in \u001b[0;36m<module>\u001b[0;34m\u001b[0m\n\u001b[0;32m----> 1\u001b[0;31m \u001b[0migraph\u001b[0m\u001b[0;34m.\u001b[0m\u001b[0msummary\u001b[0m\u001b[0;34m(\u001b[0m\u001b[0mgraph\u001b[0m\u001b[0;34m)\u001b[0m\u001b[0;34m\u001b[0m\u001b[0;34m\u001b[0m\u001b[0m\n\u001b[0m",
      "\u001b[0;31mNameError\u001b[0m: name 'graph' is not defined"
     ]
    }
   ],
   "source": [
    "igraph.summary(graph)"
   ]
  },
  {
   "cell_type": "code",
   "execution_count": 2,
   "id": "dd980608",
   "metadata": {},
   "outputs": [
    {
     "name": "stderr",
     "output_type": "stream",
     "text": [
      "\r",
      "        Downloading `listSources` from www.ebi.ac.uk -- busy: 100%|█| 2.19M/2.19M [00:19<00:00, 2.42M"
     ]
    }
   ],
   "source": [
    "net = network.Network()\n",
    "net.load_from_pickle(pickle_file=\"mynetwork.pickle\")"
   ]
  },
  {
   "cell_type": "code",
   "execution_count": 36,
   "id": "1499dbb7",
   "metadata": {},
   "outputs": [
    {
     "data": {
      "text/plain": [
       "<Entity: MMP14>"
      ]
     },
     "execution_count": 36,
     "metadata": {},
     "output_type": "execute_result"
    }
   ],
   "source": [
    "ent = net.entity('AKT2')\n",
    "ent.identifier.name\n"
   ]
  },
  {
   "cell_type": "code",
   "execution_count": null,
   "id": "6ef62959",
   "metadata": {},
   "outputs": [],
   "source": [
    "?net.add_interaction"
   ]
  },
  {
   "cell_type": "code",
   "execution_count": 148,
   "id": "2031ca0b",
   "metadata": {},
   "outputs": [],
   "source": [
    "?net.find_paths"
   ]
  },
  {
   "cell_type": "code",
   "execution_count": 181,
   "id": "db2047ca",
   "metadata": {},
   "outputs": [
    {
     "name": "stderr",
     "output_type": "stream",
     "text": [
      "\n",
      "Looking up all paths up to length 2: initializing:   0%|                 | 0.00/1.00 [00:00<?, ?it/s]\u001b[A\n",
      "        Looking up all paths up to length 2 -- finished:   0%|           | 0.00/1.00 [00:00<?, ?it/s]\u001b[A\n",
      "        Looking up all paths up to length 2 -- finished:   0%|           | 0.00/1.00 [00:00<?, ?it/s]\u001b[A\n",
      "        Looking up all paths up to length 2 -- finished: 100%|████| 1.00/1.00 [00:00<00:00, 4.23it/s]\u001b[A\n"
     ]
    }
   ],
   "source": [
    "list_of_paths = []\n",
    "paths = net.find_paths([\"AKT1\"],[\"SRC\"],\n",
    "               maxlen=2, \n",
    "               minlen=0, \n",
    "               loops=False, \n",
    "               mode='ALL',\n",
    "               resources=[\"SIGNOR\"]\n",
    "               )"
   ]
  },
  {
   "cell_type": "code",
   "execution_count": 182,
   "id": "9e7c01d5",
   "metadata": {},
   "outputs": [],
   "source": [
    "list_of_paths.append(paths)"
   ]
  },
  {
   "cell_type": "code",
   "execution_count": 183,
   "id": "6a9d6167",
   "metadata": {},
   "outputs": [
    {
     "data": {
      "text/plain": [
       "[[[<Entity: AKT1>, <Entity: KHSRP>, <Entity: SRC>],\n",
       "  [<Entity: AKT1>, <Entity: ACP1>, <Entity: SRC>],\n",
       "  [<Entity: AKT1>, <Entity: CTNNB1>, <Entity: SRC>],\n",
       "  [<Entity: AKT1>, <Entity: PPP2CA>, <Entity: SRC>],\n",
       "  [<Entity: AKT1>, <Entity: PTPN1>, <Entity: SRC>],\n",
       "  [<Entity: AKT1>, <Entity: ITGB3>, <Entity: SRC>],\n",
       "  [<Entity: AKT1>, <Entity: CDKN1B>, <Entity: SRC>],\n",
       "  [<Entity: AKT1>, <Entity: RAF1>, <Entity: SRC>],\n",
       "  [<Entity: AKT1>, <Entity: ESR1>, <Entity: SRC>],\n",
       "  [<Entity: AKT1>, <Entity: TERT>, <Entity: SRC>],\n",
       "  [<Entity: AKT1>, <Entity: PDPK1>, <Entity: SRC>],\n",
       "  [<Entity: AKT1>, <Entity: CHUK_IKBKB_IKBKG>, <Entity: SRC>],\n",
       "  [<Entity: AKT1>, <Entity: SRC>],\n",
       "  [<Entity: AKT1>, <Entity: RAC1>, <Entity: SRC>]]]"
      ]
     },
     "execution_count": 183,
     "metadata": {},
     "output_type": "execute_result"
    }
   ],
   "source": [
    "list_of_paths"
   ]
  },
  {
   "cell_type": "code",
   "execution_count": 156,
   "id": "e3190d40",
   "metadata": {},
   "outputs": [
    {
     "name": "stdout",
     "output_type": "stream",
     "text": [
      "{\"mechanism\":[\"phosphorylation\"],\"evidence\":[\"MS\",\"MA\",\"AB\",\"WB\"]}\n",
      "{\"mechanism\":[\"post transcriptional regulation\"]}\n",
      "{\"mechanism\":[\"phosphorylation\"],\"evidence\":[\"MS\",\"MA\"]}\n",
      "{\"mechanism\":[\"phosphorylation\"],\"evidence\":[\"MS\",\"MA\",\"AB\",\"WB\"]}\n",
      "{\"mechanism\":[\"dephosphorylation\"]}\n",
      "{\"mechanism\":[\"dephosphorylation\"]}\n",
      "{\"mechanism\":[\"phosphorylation\"],\"evidence\":[\"MS\",\"MA\",\"AB\",\"WB\"]}\n",
      "{\"mechanism\":[\"phosphorylation\"],\"evidence\":[\"MS\",\"MA\",\"AB\",\"WB\"],\"method\":[\"in vitro\"]}\n",
      "{\"mechanism\":[\"phosphorylation\"]}\n",
      "{\"mechanism\":[\"phosphorylation\"],\"evidence\":[\"MS\",\"MA\",\"AB\",\"WB\"]}\n",
      "{\"mechanism\":[\"phosphorylation\",\"dephosphorylation\"],\"evidence\":[\"AB\",\"MA\",\"WB\"]}\n",
      "{\"mechanism\":[\"dephosphorylation\",\"Dephosphorylation\"],\"method\":[\"in vivo\",\"anti tag coimmunoprecipitation\",\"in vitro\",\"pull down\",\"phosphatase assay\"]}\n",
      "{\"mechanism\":[\"phosphorylation\"],\"evidence\":[\"MS\",\"MA\",\"AB\",\"WB\"]}\n",
      "{\"mechanism\":[\"phosphorylation\",\"Phosphorylation\"],\"mentha_score\":0.365,\"method\":[\"in vitro\",\"in vivo\"]}\n",
      "{\"mechanism\":[\"phosphorylation\"],\"evidence\":[\"MS\",\"MA\",\"AB\",\"WB\"]}\n",
      "{\"mechanism\":[\"dephosphorylation\",\"Dephosphorylation\"],\"method\":[\"coimmunoprecipitation\",\"in vivo\",\"protein kinase assay\",\"in vitro\",\"anti bait coimmunoprecipitation\",\"bimolecular fluorescence complementation\",\"phosphatase assay\"],\"mentha_score\":0.853}\n",
      "{\"mechanism\":[\"phosphorylation\",\"dephosphorylation\",\"Phosphorylation\"],\"method\":[\"in vitro\",\"in vivo\"]}\n",
      "{\"mechanism\":[\"phosphorylation\"],\"evidence\":[\"MS\",\"MA\",\"AB\",\"WB\"]}\n",
      "{\"mechanism\":[\"phosphorylation\",\"Phosphorylation\"],\"evidence\":[\"MS\",\"MA\",\"AB\",\"WB\"],\"method\":[\"in vitro\",\"in vivo\"]}\n",
      "{\"mechanism\":[\"phosphorylation\",\"Phosphorylation\"],\"method\":[\"in vitro\"]}\n",
      "{\"mechanism\":[\"phosphorylation\"],\"evidence\":[\"MS\",\"MA\",\"AB\",\"WB\"]}\n",
      "{\"mechanism\":[\"phosphorylation\",\"Phosphorylation\"],\"method\":[\"in vitro\",\"in vivo\"]}\n",
      "{\"effect\":[\"2\",\"1\"],\"mechanism\":[\"phosphorylation\",\"binding\",\"Phosphorylation\"],\"method\":[\"proximity ligation assay\",\"in vivo\",\"in vitro\",\"experimental interaction detection\",\"coimmunoprecipitation\"],\"mentha_score\":0.717}\n",
      "{\"mechanism\":[\"phosphorylation\"],\"evidence\":[\"MS\",\"MA\",\"AB\",\"WB\"]}\n",
      "{\"effect\":\"\",\"mechanism\":[\"phosphorylation\",\"Phosphorylation\"],\"evidence\":[\"AB\",\"MA\",\"WB\",\"MS\"],\"method\":[\"in vitro\",\"in vivo\"]}\n",
      "{\"effect\":[\"2\",\"_\"],\"mechanism\":[\"phosphorylation\",\"Phosphorylation\"],\"type\":\"Phosphorylation\",\"mentha_score\":0.814,\"method\":[\"in vitro\",\"in vivo\"]}\n",
      "{\"mechanism\":[\"phosphorylation\"],\"evidence\":[\"MS\",\"MA\",\"AB\",\"WB\"]}\n",
      "{\"mechanism\":[\"phosphorylation\",\"Phosphorylation\"],\"method\":[\"proximity ligation assay\",\"in vitro\",\"yeast 2-hybrid\",\"pull down\"],\"mentha_score\":0.995}\n",
      "{\"mechanism\":[\"phosphorylation\",\"Phosphorylation\"],\"evidence\":[\"MA\",\"AB\",\"WB\"],\"method\":[\"in vitro\",\"in vivo\"]}\n",
      "{\"mechanism\":[\"phosphorylation\"],\"evidence\":[\"MS\",\"MA\",\"AB\",\"WB\"]}\n",
      "{\"mechanism\":[\"phosphorylation\",\"Phosphorylation\"],\"evidence\":[\"AB\",\"MA\",\"WB\"],\"method\":[\"in vitro\",\"in vivo\"]}\n",
      "{\"effect\":\"1\",\"mechanism\":[\"phosphorylation\",\"Phosphorylation\"],\"evidence\":[\"MA\",\"AB\",\"WB\"],\"method\":[\"in vitro\",\"in vivo\"]}\n",
      "{\"mechanism\":[\"phosphorylation\"],\"evidence\":[\"MS\",\"MA\",\"AB\",\"WB\"]}\n",
      "{\"mechanism\":[\"phosphorylation\",\"Phosphorylation\"],\"evidence\":[\"MS\",\"MA\",\"AB\",\"WB\"],\"method\":[\"in vitro\",\"in vivo\"]}\n",
      "{\"effect\":[\"+\",\"1\"],\"mechanism\":[\"phosphorylation\",\"Phosphorylation\"],\"type\":\"Phosphorylation\",\"method\":[\"proximity ligation assay\",\"in vivo\",\"protein kinase assay\",\"in vitro\",\"anti bait coimmunoprecipitation\",\"beta lactamase complementation\"],\"mentha_score\":0.765}\n",
      "{\"mechanism\":[\"phosphorylation\"],\"evidence\":[\"MS\",\"MA\",\"AB\",\"WB\"]}\n",
      "{\"mechanism\":[\"phosphorylation\"]}\n",
      "{\"mechanism\":[\"phosphorylation\"]}\n",
      "{\"mechanism\":[\"phosphorylation\"],\"evidence\":[\"MS\",\"MA\",\"AB\",\"WB\"]}\n",
      "{\"mechanism\":[\"phosphorylation\"]}\n",
      "{\"mechanism\":[\"phosphorylation\",\"Phosphorylation\"],\"evidence\":[\"AB\",\"WB\"],\"method\":[\"in vitro\",\"in vivo\"]}\n",
      "{\"mechanism\":[\"phosphorylation\"],\"evidence\":[\"MS\",\"MA\",\"AB\",\"WB\"]}\n",
      "{\"mechanism\":[\"post transcriptional regulation\"]}\n",
      "{\"mechanism\":[\"phosphorylation\"]}\n",
      "{\"mechanism\":[\"phosphorylation\"],\"evidence\":[\"MS\",\"MA\",\"AB\",\"WB\"]}\n",
      "{\"mechanism\":[\"dephosphorylation\"]}\n",
      "{\"mechanism\":[\"dephosphorylation\"]}\n",
      "{\"mechanism\":[\"phosphorylation\"],\"evidence\":[\"MS\",\"MA\",\"AB\",\"WB\"]}\n",
      "{\"mechanism\":[\"phosphorylation\"],\"evidence\":[\"MS\",\"MA\",\"AB\",\"WB\"],\"method\":[\"in vitro\"]}\n",
      "{\"mechanism\":[\"phosphorylation\"]}\n",
      "{\"mechanism\":[\"phosphorylation\"],\"evidence\":[\"MS\",\"MA\",\"AB\",\"WB\"]}\n",
      "{\"mechanism\":[\"phosphorylation\",\"dephosphorylation\"],\"evidence\":[\"AB\",\"MA\",\"WB\"]}\n",
      "{\"mechanism\":[\"dephosphorylation\"]}\n",
      "{\"mechanism\":[\"phosphorylation\"],\"evidence\":[\"MS\",\"MA\",\"AB\",\"WB\"]}\n",
      "{\"mechanism\":[\"dephosphorylation\",\"Dephosphorylation\"],\"method\":[\"coimmunoprecipitation\",\"in vivo\",\"protein kinase assay\",\"in vitro\",\"anti bait coimmunoprecipitation\",\"bimolecular fluorescence complementation\",\"phosphatase assay\"],\"mentha_score\":0.853}\n",
      "{\"mechanism\":[\"phosphorylation\"]}\n",
      "{\"mechanism\":[\"phosphorylation\"],\"evidence\":[\"MS\",\"MA\",\"AB\",\"WB\"]}\n",
      "{\"mechanism\":[\"phosphorylation\",\"Phosphorylation\"],\"method\":[\"in vitro\",\"in vivo\"]}\n",
      "{\"mechanism\":[\"phosphorylation\"]}\n",
      "{\"mechanism\":[\"phosphorylation\"],\"evidence\":[\"MS\",\"MA\",\"AB\",\"WB\"]}\n",
      "{\"effect\":\"\",\"mechanism\":[\"phosphorylation\",\"Phosphorylation\"],\"evidence\":[\"AB\",\"MA\",\"WB\",\"MS\"],\"method\":[\"in vitro\",\"in vivo\"]}\n",
      "{\"mechanism\":[\"phosphorylation\"]}\n",
      "{\"mechanism\":[\"phosphorylation\"],\"evidence\":[\"MS\",\"MA\",\"AB\",\"WB\"]}\n",
      "{\"mechanism\":[\"phosphorylation\"],\"evidence\":[\"AB\",\"MA\",\"WB\",\"MS\"]}\n",
      "{\"mechanism\":[\"phosphorylation\"]}\n",
      "{\"mechanism\":[\"phosphorylation\"],\"evidence\":[\"MS\",\"MA\",\"AB\",\"WB\"]}\n",
      "{\"mechanism\":[\"phosphorylation\",\"Phosphorylation\"],\"method\":[\"proximity ligation assay\",\"in vitro\",\"yeast 2-hybrid\",\"pull down\"],\"mentha_score\":0.995}\n",
      "{\"mechanism\":[\"phosphorylation\",\"Phosphorylation\"],\"method\":[\"in vitro\",\"in vivo\"]}\n",
      "{\"mechanism\":[\"phosphorylation\"],\"evidence\":[\"MS\",\"MA\",\"AB\",\"WB\"]}\n",
      "{\"mechanism\":[\"phosphorylation\",\"Phosphorylation\"],\"evidence\":[\"MS\",\"MA\",\"AB\",\"WB\"],\"method\":[\"in vitro\",\"in vivo\"]}\n",
      "{\"mechanism\":[\"phosphorylation\",\"Phosphorylation\"],\"evidence\":[\"MS\",\"AB\",\"WB\"],\"method\":[\"in vitro\",\"in vivo\"]}\n",
      "{\"mechanism\":[\"phosphorylation\"],\"evidence\":[\"MS\",\"MA\",\"AB\",\"WB\"]}\n",
      "{\"mechanism\":[\"phosphorylation\"]}\n",
      "{\"mechanism\":[\"phosphorylation\"]}\n"
     ]
    }
   ],
   "source": [
    "for path in paths:\n",
    "    i = 0\n",
    "    while i < len(path) - 1:\n",
    "        interaction = net.interaction(path[i], path[i+1])\n",
    "        print(interaction)\n",
    "        i = i + 1"
   ]
  },
  {
   "cell_type": "code",
   "execution_count": null,
   "id": "f3b262e1",
   "metadata": {},
   "outputs": [],
   "source": []
  },
  {
   "cell_type": "code",
   "execution_count": 88,
   "id": "6bb93695",
   "metadata": {},
   "outputs": [
    {
     "data": {
      "text/plain": [
       "{'PhosphoSite': {<Reference: 17389600>,\n",
       "  <Reference: 18621744>,\n",
       "  <Reference: 19509114>,\n",
       "  <Reference: 20651331>,\n",
       "  <Reference: 22291036>,\n",
       "  <Reference: 22315223>},\n",
       " 'iPTMnet': {<Reference: 17389600>},\n",
       " 'SIGNOR': {<Reference: 17389600>}}"
      ]
     },
     "execution_count": 88,
     "metadata": {},
     "output_type": "execute_result"
    }
   ],
   "source": [
    "interaction = net.interaction(paths[0][0], paths[0][1])\n",
    "interaction.references_by_resource()"
   ]
  },
  {
   "cell_type": "code",
   "execution_count": 147,
   "id": "926888ec",
   "metadata": {},
   "outputs": [
    {
     "ename": "AttributeError",
     "evalue": "'Wrap_net' object has no attribute 'nodes'",
     "output_type": "error",
     "traceback": [
      "\u001b[0;31m---------------------------------------------------------------------------\u001b[0m",
      "\u001b[0;31mAttributeError\u001b[0m                            Traceback (most recent call last)",
      "\u001b[0;32m/tmp/ipykernel_82363/2495771096.py\u001b[0m in \u001b[0;36m<module>\u001b[0;34m\u001b[0m\n\u001b[1;32m      1\u001b[0m \u001b[0;32mfrom\u001b[0m \u001b[0mpypath_wrapper\u001b[0m \u001b[0;32mimport\u001b[0m \u001b[0mWrap_net\u001b[0m\u001b[0;34m\u001b[0m\u001b[0;34m\u001b[0m\u001b[0m\n\u001b[1;32m      2\u001b[0m \u001b[0;34m\u001b[0m\u001b[0m\n\u001b[0;32m----> 3\u001b[0;31m \u001b[0mwrap_net\u001b[0m \u001b[0;34m=\u001b[0m \u001b[0mWrap_net\u001b[0m\u001b[0;34m(\u001b[0m\u001b[0;34m)\u001b[0m\u001b[0;34m\u001b[0m\u001b[0;34m\u001b[0m\u001b[0m\n\u001b[0m",
      "\u001b[0;32m~/Documents/PhD/github/Pypath_pipeline/test/pypath_wrapper.py\u001b[0m in \u001b[0;36m__init__\u001b[0;34m(self)\u001b[0m\n\u001b[1;32m      8\u001b[0m \u001b[0;34m\u001b[0m\u001b[0m\n\u001b[1;32m      9\u001b[0m     \u001b[0;32mdef\u001b[0m \u001b[0m__init__\u001b[0m\u001b[0;34m(\u001b[0m\u001b[0mself\u001b[0m\u001b[0;34m)\u001b[0m\u001b[0;34m:\u001b[0m\u001b[0;34m\u001b[0m\u001b[0;34m\u001b[0m\u001b[0m\n\u001b[0;32m---> 10\u001b[0;31m         \u001b[0msuper\u001b[0m\u001b[0;34m(\u001b[0m\u001b[0;34m)\u001b[0m\u001b[0;34m.\u001b[0m\u001b[0m__init__\u001b[0m\u001b[0;34m(\u001b[0m\u001b[0;34m)\u001b[0m\u001b[0;34m\u001b[0m\u001b[0;34m\u001b[0m\u001b[0m\n\u001b[0m\u001b[1;32m     11\u001b[0m \u001b[0;34m\u001b[0m\u001b[0m\n\u001b[1;32m     12\u001b[0m         \u001b[0mself\u001b[0m\u001b[0;34m.\u001b[0m\u001b[0mnode_list\u001b[0m \u001b[0;34m=\u001b[0m \u001b[0;34m[\u001b[0m\u001b[0;34m]\u001b[0m\u001b[0;34m\u001b[0m\u001b[0;34m\u001b[0m\u001b[0m\n",
      "\u001b[0;31mAttributeError\u001b[0m: 'Wrap_net' object has no attribute 'nodes'"
     ]
    }
   ],
   "source": []
  },
  {
   "cell_type": "code",
   "execution_count": 90,
   "id": "ca1b52df",
   "metadata": {},
   "outputs": [],
   "source": [
    "new_net.add_interaction(interaction)"
   ]
  },
  {
   "cell_type": "code",
   "execution_count": 128,
   "id": "7d815491",
   "metadata": {},
   "outputs": [
    {
     "data": {
      "text/plain": [
       "{(<Entity: SRC>,\n",
       "  <Entity: MMP14>): <Interaction: SRC ============> MMP14 [Evidences: PhosphoSite, SIGNOR, iPTMnet (6 references)]>}"
      ]
     },
     "execution_count": 128,
     "metadata": {},
     "output_type": "execute_result"
    }
   ],
   "source": [
    "new_net.interactions"
   ]
  },
  {
   "cell_type": "code",
   "execution_count": 105,
   "id": "4c622503",
   "metadata": {},
   "outputs": [
    {
     "data": {
      "text/html": [
       "<div>\n",
       "<style scoped>\n",
       "    .dataframe tbody tr th:only-of-type {\n",
       "        vertical-align: middle;\n",
       "    }\n",
       "\n",
       "    .dataframe tbody tr th {\n",
       "        vertical-align: top;\n",
       "    }\n",
       "\n",
       "    .dataframe thead th {\n",
       "        text-align: right;\n",
       "    }\n",
       "</style>\n",
       "<table border=\"1\" class=\"dataframe\">\n",
       "  <thead>\n",
       "    <tr style=\"text-align: right;\">\n",
       "      <th></th>\n",
       "      <th>id_a</th>\n",
       "      <th>id_b</th>\n",
       "      <th>type_a</th>\n",
       "      <th>type_b</th>\n",
       "      <th>directed</th>\n",
       "      <th>effect</th>\n",
       "      <th>type</th>\n",
       "      <th>dmodel</th>\n",
       "      <th>sources</th>\n",
       "      <th>references</th>\n",
       "    </tr>\n",
       "  </thead>\n",
       "  <tbody>\n",
       "    <tr>\n",
       "      <th>0</th>\n",
       "      <td>P12931</td>\n",
       "      <td>P50281</td>\n",
       "      <td>protein</td>\n",
       "      <td>protein</td>\n",
       "      <td>True</td>\n",
       "      <td>0</td>\n",
       "      <td>post_translational</td>\n",
       "      <td>{unknown}</td>\n",
       "      <td>{PhosphoSite, iPTMnet}</td>\n",
       "      <td>NaN</td>\n",
       "    </tr>\n",
       "    <tr>\n",
       "      <th>1</th>\n",
       "      <td>P12931</td>\n",
       "      <td>P50281</td>\n",
       "      <td>protein</td>\n",
       "      <td>protein</td>\n",
       "      <td>False</td>\n",
       "      <td>0</td>\n",
       "      <td>post_translational</td>\n",
       "      <td>{unknown}</td>\n",
       "      <td>{SIGNOR}</td>\n",
       "      <td>NaN</td>\n",
       "    </tr>\n",
       "  </tbody>\n",
       "</table>\n",
       "</div>"
      ],
      "text/plain": [
       "     id_a    id_b   type_a   type_b  directed  effect                type  \\\n",
       "0  P12931  P50281  protein  protein      True       0  post_translational   \n",
       "1  P12931  P50281  protein  protein     False       0  post_translational   \n",
       "\n",
       "      dmodel                 sources references  \n",
       "0  {unknown}  {PhosphoSite, iPTMnet}        NaN  \n",
       "1  {unknown}                {SIGNOR}        NaN  "
      ]
     },
     "execution_count": 105,
     "metadata": {},
     "output_type": "execute_result"
    }
   ],
   "source": [
    "a = new_net.get_df()\n",
    "a"
   ]
  },
  {
   "cell_type": "code",
   "execution_count": 106,
   "id": "8f6066c9",
   "metadata": {},
   "outputs": [],
   "source": []
  },
  {
   "cell_type": "code",
   "execution_count": null,
   "id": "ed141eb1",
   "metadata": {},
   "outputs": [],
   "source": [
    "net.make_df()\n",
    "net.df"
   ]
  },
  {
   "cell_type": "code",
   "execution_count": null,
   "id": "6658fe8e",
   "metadata": {},
   "outputs": [],
   "source": [
    "erbb2 = net.entity('P04626')\n",
    "cd44 = net.entity('P16070')"
   ]
  },
  {
   "cell_type": "code",
   "execution_count": null,
   "id": "756e363b",
   "metadata": {},
   "outputs": [],
   "source": [
    "erbb2.attrs"
   ]
  },
  {
   "cell_type": "code",
   "execution_count": null,
   "id": "9a5ceac7",
   "metadata": {},
   "outputs": [],
   "source": [
    "net.find_paths([erbb2, cd44], maxlen=2, minlen=0, loops=True, mode='all')"
   ]
  },
  {
   "cell_type": "code",
   "execution_count": null,
   "id": "e5242767",
   "metadata": {},
   "outputs": [],
   "source": [
    "#interactions = net.interaction_by_label(\"MAPK3\", \"DUSP6\")\n",
    "#proteins = net.get_proteins()\n",
    "interactions = net.interactions_directed_by_resource()"
   ]
  },
  {
   "cell_type": "code",
   "execution_count": null,
   "id": "eaaabb67",
   "metadata": {},
   "outputs": [],
   "source": [
    "interactions[\"DoRothEA\"]"
   ]
  },
  {
   "cell_type": "code",
   "execution_count": null,
   "id": "992b2e4b",
   "metadata": {},
   "outputs": [],
   "source": [
    "interactions = net.interaction_by_label(\"PRKCA\", \"GRIN2A\")\n",
    "interactions"
   ]
  },
  {
   "cell_type": "code",
   "execution_count": null,
   "id": "f2b146fb",
   "metadata": {},
   "outputs": [],
   "source": [
    "signed_net = net.get_interactions_signed()\n",
    "signed_net"
   ]
  },
  {
   "cell_type": "code",
   "execution_count": null,
   "id": "3b33a004",
   "metadata": {},
   "outputs": [],
   "source": [
    "for key in interactions.keys():\n",
    "    a = interactions[key]\n",
    "    if a.get_direction(\"positive\") != None:\n",
    "        print(a)\n",
    "    elif a.get_direction(\"negative\") != None:\n",
    "        print(a)\n",
    "    else:\n",
    "        continue"
   ]
  },
  {
   "cell_type": "code",
   "execution_count": null,
   "id": "c5b49f20",
   "metadata": {},
   "outputs": [],
   "source": [
    "protein_interactions = net.protein_identifiers_by_reference()"
   ]
  },
  {
   "cell_type": "code",
   "execution_count": null,
   "id": "3bb052f6",
   "metadata": {},
   "outputs": [],
   "source": [
    "reg = net.regulated_by('P04626')\n",
    "reg"
   ]
  },
  {
   "cell_type": "code",
   "execution_count": null,
   "id": "3495aeec",
   "metadata": {},
   "outputs": [],
   "source": [
    "for ents in reg.list_entities:\n",
    "    print(ents.label)"
   ]
  },
  {
   "cell_type": "code",
   "execution_count": null,
   "id": "5f54ae7a",
   "metadata": {},
   "outputs": [],
   "source": [
    "net.interactions_by_reference()"
   ]
  },
  {
   "cell_type": "code",
   "execution_count": null,
   "id": "b34f51a6",
   "metadata": {},
   "outputs": [],
   "source": [
    "a"
   ]
  },
  {
   "cell_type": "code",
   "execution_count": null,
   "id": "a8cc0e9b",
   "metadata": {},
   "outputs": [],
   "source": [
    "b = net.interaction_by_label(\"CALM1\", \"TRPC1\")"
   ]
  },
  {
   "cell_type": "code",
   "execution_count": null,
   "id": "3b0a7aac",
   "metadata": {},
   "outputs": [],
   "source": [
    "b.which_signs()"
   ]
  },
  {
   "cell_type": "code",
   "execution_count": null,
   "id": "b7527b67",
   "metadata": {},
   "outputs": [],
   "source": [
    "#find uniprot name from genesymbol\n",
    "#\n",
    "from pypath.utils import mapping\n",
    "\n",
    "print(mapping.map_name('P02533', 'uniprot', 'genesymbol'))\n",
    "print(mapping.map_name('CALM1' , 'genesymbol', 'uniprot'))"
   ]
  },
  {
   "cell_type": "code",
   "execution_count": null,
   "id": "ea51f4f5",
   "metadata": {},
   "outputs": [],
   "source": [
    "net.find_paths('P0DP23')"
   ]
  },
  {
   "cell_type": "code",
   "execution_count": null,
   "id": "5e373074",
   "metadata": {},
   "outputs": [],
   "source": []
  }
 ],
 "metadata": {
  "kernelspec": {
   "display_name": "Python 3 (ipykernel)",
   "language": "python",
   "name": "python3"
  },
  "language_info": {
   "codemirror_mode": {
    "name": "ipython",
    "version": 3
   },
   "file_extension": ".py",
   "mimetype": "text/x-python",
   "name": "python",
   "nbconvert_exporter": "python",
   "pygments_lexer": "ipython3",
   "version": "3.10.0"
  }
 },
 "nbformat": 4,
 "nbformat_minor": 5
}

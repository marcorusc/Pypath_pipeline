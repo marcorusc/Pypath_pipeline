{
 "cells": [
  {
   "cell_type": "code",
   "execution_count": null,
   "id": "0a7c23e1",
   "metadata": {},
   "outputs": [],
   "source": [
    "#starting importing some useful stuff\n",
    "import os\n",
    "import igraph\n",
    "from pypath.share import settings\n",
    "settings.setup(progressbars = True)\n",
    "import omnipath as op\n",
    "import pandas as pd\n",
    "import networkx as nx\n",
    "import matplotlib.pyplot as plt\n",
    "#importing legacy, which is the 'old' version of pypath, the only one (for now), with the graph object implemented\n",
    "from pypath.legacy import main as legacy\n",
    "#importing the new class used by pypath, useful for the dataframe visualization\n",
    "#but with noreferences (maybe a bug to report?). Here graph is not implemented\n",
    "from pypath.core import network\n",
    "from pypath.resources import network as netres\n",
    "import pypath_functions as pf"
   ]
  },
  {
   "cell_type": "code",
   "execution_count": null,
   "id": "b5ce9410",
   "metadata": {},
   "outputs": [],
   "source": [
    "igraph.summary(graph)"
   ]
  },
  {
   "cell_type": "code",
   "execution_count": null,
   "id": "dd980608",
   "metadata": {},
   "outputs": [],
   "source": [
    "net = network.Network()\n",
    "net.load_from_pickle(pickle_file=\"mynetwork.pickle\")"
   ]
  },
  {
   "cell_type": "code",
   "execution_count": null,
   "id": "1499dbb7",
   "metadata": {},
   "outputs": [],
   "source": [
    "ent = net.entity('AKT2')\n",
    "ent.identifier.name\n"
   ]
  },
  {
   "cell_type": "code",
   "execution_count": null,
   "id": "6ef62959",
   "metadata": {},
   "outputs": [],
   "source": [
    "?net.add_interaction"
   ]
  },
  {
   "cell_type": "code",
   "execution_count": null,
   "id": "2031ca0b",
   "metadata": {},
   "outputs": [],
   "source": [
    "?net.find_paths"
   ]
  },
  {
   "cell_type": "code",
   "execution_count": null,
   "id": "db2047ca",
   "metadata": {},
   "outputs": [],
   "source": [
    "list_of_paths = []\n",
    "paths = net.find_paths([\"AKT1\"],[\"SRC\"],\n",
    "               maxlen=2, \n",
    "               minlen=0, \n",
    "               loops=False, \n",
    "               mode='ALL',\n",
    "               resources=[\"SIGNOR\"]\n",
    "               )"
   ]
  },
  {
   "cell_type": "code",
   "execution_count": null,
   "id": "9e7c01d5",
   "metadata": {},
   "outputs": [],
   "source": [
    "list_of_paths.append(paths)"
   ]
  },
  {
   "cell_type": "code",
   "execution_count": null,
   "id": "6a9d6167",
   "metadata": {},
   "outputs": [],
   "source": [
    "list_of_paths"
   ]
  },
  {
   "cell_type": "code",
   "execution_count": null,
   "id": "e3190d40",
   "metadata": {},
   "outputs": [],
   "source": [
    "for path in paths:\n",
    "    i = 0\n",
    "    while i < len(path) - 1:\n",
    "        interaction = net.interaction(path[i], path[i+1])\n",
    "        print(interaction)\n",
    "        i = i + 1"
   ]
  },
  {
   "cell_type": "code",
   "execution_count": null,
   "id": "f3b262e1",
   "metadata": {},
   "outputs": [],
   "source": []
  },
  {
   "cell_type": "code",
   "execution_count": null,
   "id": "6bb93695",
   "metadata": {},
   "outputs": [],
   "source": [
    "interaction = net.interaction(paths[0][0], paths[0][1])\n",
    "interaction.references_by_resource()"
   ]
  },
  {
   "cell_type": "code",
   "execution_count": null,
   "id": "926888ec",
   "metadata": {},
   "outputs": [],
   "source": []
  },
  {
   "cell_type": "code",
   "execution_count": null,
   "id": "ca1b52df",
   "metadata": {},
   "outputs": [],
   "source": [
    "new_net.add_interaction(interaction)"
   ]
  },
  {
   "cell_type": "code",
   "execution_count": null,
   "id": "7d815491",
   "metadata": {},
   "outputs": [],
   "source": [
    "new_net.interactions"
   ]
  },
  {
   "cell_type": "code",
   "execution_count": null,
   "id": "4c622503",
   "metadata": {},
   "outputs": [],
   "source": [
    "a = new_net.get_df()\n",
    "a"
   ]
  },
  {
   "cell_type": "code",
   "execution_count": null,
   "id": "8f6066c9",
   "metadata": {},
   "outputs": [],
   "source": []
  },
  {
   "cell_type": "code",
   "execution_count": null,
   "id": "ed141eb1",
   "metadata": {},
   "outputs": [],
   "source": [
    "net.make_df()\n",
    "net.df"
   ]
  },
  {
   "cell_type": "code",
   "execution_count": null,
   "id": "6658fe8e",
   "metadata": {},
   "outputs": [],
   "source": [
    "erbb2 = net.entity('P04626')\n",
    "cd44 = net.entity('P16070')"
   ]
  },
  {
   "cell_type": "code",
   "execution_count": null,
   "id": "756e363b",
   "metadata": {},
   "outputs": [],
   "source": [
    "erbb2.attrs"
   ]
  },
  {
   "cell_type": "code",
   "execution_count": null,
   "id": "9a5ceac7",
   "metadata": {},
   "outputs": [],
   "source": [
    "net.find_paths([erbb2, cd44], maxlen=2, minlen=0, loops=True, mode='all')"
   ]
  },
  {
   "cell_type": "code",
   "execution_count": null,
   "id": "e5242767",
   "metadata": {},
   "outputs": [],
   "source": [
    "#interactions = net.interaction_by_label(\"MAPK3\", \"DUSP6\")\n",
    "#proteins = net.get_proteins()\n",
    "interactions = net.interactions_directed_by_resource()"
   ]
  },
  {
   "cell_type": "code",
   "execution_count": null,
   "id": "eaaabb67",
   "metadata": {},
   "outputs": [],
   "source": [
    "interactions[\"DoRothEA\"]"
   ]
  },
  {
   "cell_type": "code",
   "execution_count": null,
   "id": "992b2e4b",
   "metadata": {},
   "outputs": [],
   "source": [
    "interactions = net.interaction_by_label(\"PRKCA\", \"GRIN2A\")\n",
    "interactions"
   ]
  },
  {
   "cell_type": "code",
   "execution_count": null,
   "id": "f2b146fb",
   "metadata": {},
   "outputs": [],
   "source": [
    "signed_net = net.get_interactions_signed()\n",
    "signed_net"
   ]
  },
  {
   "cell_type": "code",
   "execution_count": null,
   "id": "3b33a004",
   "metadata": {},
   "outputs": [],
   "source": [
    "for key in interactions.keys():\n",
    "    a = interactions[key]\n",
    "    if a.get_direction(\"positive\") != None:\n",
    "        print(a)\n",
    "    elif a.get_direction(\"negative\") != None:\n",
    "        print(a)\n",
    "    else:\n",
    "        continue"
   ]
  },
  {
   "cell_type": "code",
   "execution_count": null,
   "id": "c5b49f20",
   "metadata": {},
   "outputs": [],
   "source": [
    "protein_interactions = net.protein_identifiers_by_reference()"
   ]
  },
  {
   "cell_type": "code",
   "execution_count": null,
   "id": "3bb052f6",
   "metadata": {},
   "outputs": [],
   "source": [
    "reg = net.regulated_by('P04626')\n",
    "reg"
   ]
  },
  {
   "cell_type": "code",
   "execution_count": null,
   "id": "3495aeec",
   "metadata": {},
   "outputs": [],
   "source": [
    "for ents in reg.list_entities:\n",
    "    print(ents.label)"
   ]
  },
  {
   "cell_type": "code",
   "execution_count": null,
   "id": "5f54ae7a",
   "metadata": {},
   "outputs": [],
   "source": [
    "net.interactions_by_reference()"
   ]
  },
  {
   "cell_type": "code",
   "execution_count": null,
   "id": "b34f51a6",
   "metadata": {},
   "outputs": [],
   "source": [
    "a"
   ]
  },
  {
   "cell_type": "code",
   "execution_count": null,
   "id": "a8cc0e9b",
   "metadata": {},
   "outputs": [],
   "source": [
    "b = net.interaction_by_label(\"CALM1\", \"TRPC1\")"
   ]
  },
  {
   "cell_type": "code",
   "execution_count": null,
   "id": "3b0a7aac",
   "metadata": {},
   "outputs": [],
   "source": [
    "b.which_signs()"
   ]
  }
 ],
 "metadata": {
  "kernelspec": {
   "display_name": "Python 3 (ipykernel)",
   "language": "python",
   "name": "python3"
  },
  "language_info": {
   "codemirror_mode": {
    "name": "ipython",
    "version": 3
   },
   "file_extension": ".py",
   "mimetype": "text/x-python",
   "name": "python",
   "nbconvert_exporter": "python",
   "pygments_lexer": "ipython3",
   "version": "3.10.0"
  }
 },
 "nbformat": 4,
 "nbformat_minor": 5
}
